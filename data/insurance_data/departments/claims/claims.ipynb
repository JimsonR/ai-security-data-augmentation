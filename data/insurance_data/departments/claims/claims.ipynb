{
 "cells": [
  {
   "cell_type": "markdown",
   "id": "69b23fbd",
   "metadata": {},
   "source": [
    "# claims"
   ]
  }
 ],
 "metadata": {
  "language_info": {
   "name": "python"
  }
 },
 "nbformat": 4,
 "nbformat_minor": 5
}
